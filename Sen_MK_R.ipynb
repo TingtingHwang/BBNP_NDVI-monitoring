{
 "cells": [
  {
   "cell_type": "markdown",
   "metadata": {},
   "source": [
    "This code is written in R, we need to seeting R kernel in Jupyter notebook.\n",
    "Time:2023-12-20"
   ]
  },
  {
   "cell_type": "markdown",
   "metadata": {},
   "source": [
    "# 1. Seeting R in Jupyter notebook\n",
    "https://docs.anaconda.com/free/navigator/tutorials/r-lang/\n",
    "\n",
    "Step 1: Open the Anaconda Prompt\n",
    "To start, open the Anaconda Prompt.\n",
    "\n",
    "You’ll then see the following screen with your user name:\n",
    "(base) C:\\Users\\Ron>"
   ]
  },
  {
   "cell_type": "markdown",
   "metadata": {},
   "source": [
    "Step 2: Add R to Jupyter\n",
    "Next, type/copy the following command in order to add R to Jupyter:\n",
    "\n",
    "'conda install -c r r-irkernel'\n",
    "\n",
    "The command would look like this in the Anaconda Prompt (press ENTER to proceed with the installation):\n",
    "\n",
    "'(base) C:\\Users\\Ron>conda install -c r r-irkernel'\n",
    "\n",
    "Next, type ‘y‘ and then press ENTER to proceed:\n",
    "\n",
    "'Proceed ([y]/n)? y'\n",
    "\n",
    "After a short period of time, your installation would be completed."
   ]
  },
  {
   "cell_type": "markdown",
   "metadata": {},
   "source": [
    "Step 3: Launch Jupyter Notebook\n",
    "To launch Jupyter Notebook, first open the Anaconda Navigator.\n",
    "\n",
    "Then, click on the button to launch Jupyter."
   ]
  },
  {
   "cell_type": "markdown",
   "metadata": {},
   "source": [
    "Step 4: Create a new Notebook\n",
    "To create a new Notebook for R:\n",
    "\n",
    "First, click on 'New' on the top right-hand-side of your screen\n",
    "Finally, select 'R' from the drop-down list"
   ]
  },
  {
   "cell_type": "markdown",
   "metadata": {},
   "source": [
    "## If the computer has installed R software, seeting Jupyter notebook in R\n",
    "Install package in R directly.\n",
    "\n",
    "install.packages('IRkernel')\n",
    "IRkernel::installspec()"
   ]
  },
  {
   "cell_type": "markdown",
   "metadata": {},
   "source": [
    "# 2. Run the following code\n",
    "\n",
    "Step 1: Install the R package.\n",
    "\n",
    "Step 2: Setting up the folder.\n",
    "\n",
    "Step 3: Read NDVI data from computer.\n",
    "\n",
    "Step 4: Trend analysis of Sen+MK long time series.\n",
    "\n",
    "Step 5: Display Outputs"
   ]
  },
  {
   "cell_type": "markdown",
   "metadata": {},
   "source": [
    "## Step 1: Install the R packages."
   ]
  },
  {
   "cell_type": "code",
   "execution_count": 2,
   "metadata": {
    "scrolled": false
   },
   "outputs": [
    {
     "name": "stderr",
     "output_type": "stream",
     "text": [
      "terra 1.7.65\n",
      "\n"
     ]
    }
   ],
   "source": [
    "#Install the R package\n",
    "#install.packages(\"terra\")\n",
    "#install.packages(\"trend\")\n",
    "\n",
    "library(terra)\n",
    "library(trend)"
   ]
  },
  {
   "cell_type": "markdown",
   "metadata": {},
   "source": [
    "## Step 2: Setting up the folder."
   ]
  },
  {
   "cell_type": "code",
   "execution_count": 3,
   "metadata": {},
   "outputs": [
    {
     "data": {
      "text/html": [
       "'C:/Users/Qing/Sen+MK _BBNP'"
      ],
      "text/latex": [
       "'C:/Users/Qing/Sen+MK \\_BBNP'"
      ],
      "text/markdown": [
       "'C:/Users/Qing/Sen+MK _BBNP'"
      ],
      "text/plain": [
       "[1] \"C:/Users/Qing/Sen+MK _BBNP\""
      ]
     },
     "metadata": {},
     "output_type": "display_data"
    }
   ],
   "source": [
    "#Check the current folder\n",
    "getwd()\n",
    "#Setting the Run Folder\n",
    "setwd(\"D:/Code/R/NDVI_RAIN/\")"
   ]
  },
  {
   "cell_type": "markdown",
   "metadata": {},
   "source": [
    "## Step 3: Read NDVI data from computer.\n",
    "Enter a folder of single-band TIFF data, in this case the NDVI annual maximum/mean for the calendar year\n",
    "\n",
    "Data detail:\n",
    "\n",
    "1) Modis_NDVI\n",
    "Source: LAADS DAAC, MODIS MOD13Q1 NDVI gridded level-3 product, 250m resolution, 16 day composites.\n",
    "\n",
    "In the file './Mon/Modis_NDVI', it contains monthly data from 2013 to 2022, i.e. 20 years and 12 months.\n",
    "\n",
    "2) Sentinel2_NDVI\n",
    "Source: Copernicus Sentinel-2 Collection 1 MSI Level-2A (L2A) product, 10m resolution. \n",
    "\n",
    "In the file './Mon/Sentinel2_NDVI', it contains quarterly data from 2017 to 2022, i.e. 6 years and 2 seasons (summer and autumn)."
   ]
  },
  {
   "cell_type": "code",
   "execution_count": 4,
   "metadata": {},
   "outputs": [
    {
     "ename": "ERROR",
     "evalue": "Error: [rast] extents do not match\n",
     "output_type": "error",
     "traceback": [
      "Error: [rast] extents do not match\nTraceback:\n",
      "1. rast(fl)",
      "2. rast(fl)",
      "3. .local(x, ...)",
      "4. messages(r, \"rast\")",
      "5. error(f, x@cpp$getError())",
      "6. stop(\"[\", f, \"] \", emsg, ..., call. = FALSE)"
     ]
    }
   ],
   "source": [
    "flnames <- list.files(path = './Mon/Modis_NDVI/NDVI_1/', pattern = '.tif$')\n",
    "   #Modis NDVI from 2003-2022, for 20 years.\n",
    "   #'NDVI_1'=January, we need to manually change the month or season\n",
    "fl <- paste0(\"./Mon/Modis_NDVI/NDVI_1/\", flnames)\n",
    "firs <- rast(fl)"
   ]
  },
  {
   "cell_type": "code",
   "execution_count": 5,
   "metadata": {},
   "outputs": [
    {
     "ename": "ERROR",
     "evalue": "Error in h(simpleError(msg, call)): error in evaluating the argument 'x' in selecting a method for function 'plot': object 'firs' not found\n",
     "output_type": "error",
     "traceback": [
      "Error in h(simpleError(msg, call)): error in evaluating the argument 'x' in selecting a method for function 'plot': object 'firs' not found\nTraceback:\n",
      "1. plot(firs)",
      "2. .handleSimpleError(function (cond) \n . .Internal(C_tryCatchHelper(addr, 1L, cond)), \"object 'firs' not found\", \n .     base::quote(eval(expr, envir, enclos)))",
      "3. h(simpleError(msg, call))"
     ]
    }
   ],
   "source": [
    "##The operator console displays all loaded data\n",
    "plot(firs)\n",
    "plot(firs[1])#show first image\n",
    "summary(firs)\n",
    "ts = global(firs, \"mean\", na.rm=T, cores=8)#core=Computer Kernel 8\n",
    "a1 = sens.slope(ts$mean)"
   ]
  },
  {
   "cell_type": "markdown",
   "metadata": {},
   "source": [
    "## Step 4: Trend analysis of Sen+MK long time series.\n",
    "#Sen+MK analysis\n",
    "Change the time length of the data, 'start = begining year'  and 'end = ending year'."
   ]
  },
  {
   "cell_type": "markdown",
   "metadata": {},
   "source": [
    "1) Theil-Sen Median\n",
    "\n",
    "> The Theil-Sen Median method, also known as Sen slope estimation, is a robust non-parametric statistical approach for trend analysis. The method is computationally efficient, insensitive to measurement error and outlier data, and is suitable for trend analysis of long time series data\n",
    "\n",
    "2）Mann-Kendall Test\n",
    "\n",
    "> The Mann-Kendall Test is used to determine whether a time series has a monotonic upward or downward trend. It does not require that the data be normally distributed or linear. It does require that there is no autocorrelation ."
   ]
  },
  {
   "cell_type": "code",
   "execution_count": 10,
   "metadata": {},
   "outputs": [],
   "source": [
    "fun_sen <- function(x){\n",
    "  if(length(na.omit(x)) <3) return(c(NA, NA, NA)) #Delete image elements with data discontinuities containing NA \n",
    "  MK_estimate <- trend::sens.slope(ts(na.omit(x), start = 2003, end = 2023, frequency = 1), conf.level = 0.95) #Sen slope\n",
    "  slope <- MK_estimate$estimate\n",
    "  MK_test <- MK_estimate$p.value\n",
    "  Zs <- MK_estimate$statistic\n",
    "  return(c(Zs, slope, MK_test))\n",
    "}\n",
    "\n",
    "firs_sen = app(firs, fun_sen, cores=8 )\n",
    "names(firs_sen) = c(\"Z\", \"slope\", \"p-value\")"
   ]
  },
  {
   "cell_type": "markdown",
   "metadata": {},
   "source": [
    "## Step 5: Display Outputs\n",
    "Plot the analysis results, include the \"Z\", \"slope\", \"p-value\".\n",
    "\n",
    "\"./Sen+MK/Month/\" Setting up the write file.\n",
    "\n",
    "Write results in raster, in \"_January.tif\" we need to manually change the file month or season."
   ]
  },
  {
   "cell_type": "code",
   "execution_count": 1,
   "metadata": {
    "scrolled": true
   },
   "outputs": [
    {
     "ename": "ERROR",
     "evalue": "Error in eval(expr, envir, enclos): object 'firs_sen' not found\n",
     "output_type": "error",
     "traceback": [
      "Error in eval(expr, envir, enclos): object 'firs_sen' not found\nTraceback:\n",
      "1. plot(firs_sen)"
     ]
    }
   ],
   "source": [
    "plot(firs_sen)\n",
    "\n",
    "writeRaster(firs_sen, filename = paste0(\"./Sen+MK/Month/\", firs_sen@cpp[[\"names\"]], \"_Modis03-23_January.tif\"))"
   ]
  },
  {
   "cell_type": "code",
   "execution_count": null,
   "metadata": {},
   "outputs": [],
   "source": []
  },
  {
   "cell_type": "code",
   "execution_count": null,
   "metadata": {},
   "outputs": [],
   "source": []
  }
 ],
 "metadata": {
  "kernelspec": {
   "display_name": "R",
   "language": "R",
   "name": "ir"
  },
  "language_info": {
   "codemirror_mode": "r",
   "file_extension": ".r",
   "mimetype": "text/x-r-source",
   "name": "R",
   "pygments_lexer": "r",
   "version": "4.3.2"
  }
 },
 "nbformat": 4,
 "nbformat_minor": 2
}
